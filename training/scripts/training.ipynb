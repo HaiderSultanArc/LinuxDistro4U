{
 "cells": [
  {
   "cell_type": "code",
   "execution_count": 1,
   "metadata": {},
   "outputs": [
    {
     "name": "stderr",
     "output_type": "stream",
     "text": [
      "2022-08-24 21:57:28.153382: W tensorflow/stream_executor/platform/default/dso_loader.cc:64] Could not load dynamic library 'libcudart.so.11.0'; dlerror: libcudart.so.11.0: cannot open shared object file: No such file or directory\n",
      "2022-08-24 21:57:28.153541: I tensorflow/stream_executor/cuda/cudart_stub.cc:29] Ignore above cudart dlerror if you do not have a GPU set up on your machine.\n"
     ]
    }
   ],
   "source": [
    "import pandas as pd\n",
    "import tensorflow as tf"
   ]
  },
  {
   "cell_type": "code",
   "execution_count": 2,
   "metadata": {},
   "outputs": [],
   "source": [
    "trainingData = pd.read_csv('../data/LinuxDistro4U.csv')\n",
    "testingData = pd.read_csv('../data/LinuxDistro4UTestData.csv')\n",
    "numberOfFeatures = 52"
   ]
  },
  {
   "cell_type": "code",
   "execution_count": 3,
   "metadata": {},
   "outputs": [],
   "source": [
    "features = trainingData.iloc[:, :numberOfFeatures]\n",
    "distros = trainingData.iloc[:, numberOfFeatures:]\n",
    "distrosOneHot = pd.get_dummies(distros)\n",
    "testFeatures = testingData.iloc[:, :numberOfFeatures]\n",
    "testDistros = testingData.iloc[:, numberOfFeatures:]\n",
    "testDistrosOneHot = pd.get_dummies(testDistros)"
   ]
  },
  {
   "cell_type": "code",
   "execution_count": 4,
   "metadata": {},
   "outputs": [
    {
     "name": "stderr",
     "output_type": "stream",
     "text": [
      "2022-08-24 21:59:08.366526: W tensorflow/stream_executor/platform/default/dso_loader.cc:64] Could not load dynamic library 'libcuda.so.1'; dlerror: libcuda.so.1: cannot open shared object file: No such file or directory\n",
      "2022-08-24 21:59:08.366761: W tensorflow/stream_executor/cuda/cuda_driver.cc:269] failed call to cuInit: UNKNOWN ERROR (303)\n",
      "2022-08-24 21:59:08.366808: I tensorflow/stream_executor/cuda/cuda_diagnostics.cc:156] kernel driver does not appear to be running on this host (DESKTOP-8871DJ7): /proc/driver/nvidia/version does not exist\n",
      "2022-08-24 21:59:08.407236: I tensorflow/core/platform/cpu_feature_guard.cc:193] This TensorFlow binary is optimized with oneAPI Deep Neural Network Library (oneDNN) to use the following CPU instructions in performance-critical operations:  AVX2 FMA\n",
      "To enable them in other operations, rebuild TensorFlow with the appropriate compiler flags.\n"
     ]
    }
   ],
   "source": [
    "distroPredictor = tf.keras.models.Sequential()\n",
    "distroPredictor.add(tf.keras.layers.Dense(512, activation=\"relu\", input_shape=(numberOfFeatures,)))\n",
    "distroPredictor.add(tf.keras.layers.Dense(256, activation=\"relu\"))\n",
    "distroPredictor.add(tf.keras.layers.Dense(124, activation=\"relu\"))\n",
    "distroPredictor.add(tf.keras.layers.Dense(64, activation=\"relu\"))\n",
    "distroPredictor.add(tf.keras.layers.Dense(32, activation=\"relu\"))\n",
    "distroPredictor.add(tf.keras.layers.Dense(44, activation=\"softmax\"))"
   ]
  },
  {
   "cell_type": "code",
   "execution_count": 5,
   "metadata": {},
   "outputs": [
    {
     "name": "stdout",
     "output_type": "stream",
     "text": [
      "Model: \"sequential\"\n",
      "_________________________________________________________________\n",
      " Layer (type)                Output Shape              Param #   \n",
      "=================================================================\n",
      " dense (Dense)               (None, 512)               27136     \n",
      "                                                                 \n",
      " dense_1 (Dense)             (None, 256)               131328    \n",
      "                                                                 \n",
      " dense_2 (Dense)             (None, 124)               31868     \n",
      "                                                                 \n",
      " dense_3 (Dense)             (None, 64)                8000      \n",
      "                                                                 \n",
      " dense_4 (Dense)             (None, 32)                2080      \n",
      "                                                                 \n",
      " dense_5 (Dense)             (None, 44)                1452      \n",
      "                                                                 \n",
      "=================================================================\n",
      "Total params: 201,864\n",
      "Trainable params: 201,864\n",
      "Non-trainable params: 0\n",
      "_________________________________________________________________\n"
     ]
    }
   ],
   "source": [
    "distroPredictor.compile(loss=\"categorical_crossentropy\", optimizer=\"adam\", metrics=[\"accuracy\"])\n",
    "distroPredictor.summary()"
   ]
  },
  {
   "cell_type": "code",
   "execution_count": 8,
   "metadata": {},
   "outputs": [
    {
     "name": "stdout",
     "output_type": "stream",
     "text": [
      "Epoch 1/22\n",
      "95/95 [==============================] - 1s 8ms/step - loss: 0.0652 - accuracy: 0.9809\n",
      "Epoch 2/22\n",
      "95/95 [==============================] - 1s 8ms/step - loss: 0.0583 - accuracy: 0.9823\n",
      "Epoch 3/22\n",
      "95/95 [==============================] - 1s 7ms/step - loss: 0.0526 - accuracy: 0.9868\n",
      "Epoch 4/22\n",
      "95/95 [==============================] - 1s 8ms/step - loss: 0.0517 - accuracy: 0.9864\n",
      "Epoch 5/22\n",
      "95/95 [==============================] - 1s 8ms/step - loss: 0.0366 - accuracy: 0.9900\n",
      "Epoch 6/22\n",
      "95/95 [==============================] - 1s 6ms/step - loss: 0.0391 - accuracy: 0.9873\n",
      "Epoch 7/22\n",
      "95/95 [==============================] - 1s 9ms/step - loss: 0.0344 - accuracy: 0.9904\n",
      "Epoch 8/22\n",
      "95/95 [==============================] - 1s 8ms/step - loss: 0.0342 - accuracy: 0.9885\n",
      "Epoch 9/22\n",
      "95/95 [==============================] - 1s 8ms/step - loss: 0.0371 - accuracy: 0.9883\n",
      "Epoch 10/22\n",
      "95/95 [==============================] - 1s 9ms/step - loss: 0.0396 - accuracy: 0.9885\n",
      "Epoch 11/22\n",
      "95/95 [==============================] - 1s 8ms/step - loss: 0.0346 - accuracy: 0.9866\n",
      "Epoch 12/22\n",
      "95/95 [==============================] - 1s 9ms/step - loss: 0.0278 - accuracy: 0.9911\n",
      "Epoch 13/22\n",
      "95/95 [==============================] - 1s 8ms/step - loss: 0.0423 - accuracy: 0.9861\n",
      "Epoch 14/22\n",
      "95/95 [==============================] - 1s 8ms/step - loss: 0.0528 - accuracy: 0.9816\n",
      "Epoch 15/22\n",
      "95/95 [==============================] - 1s 7ms/step - loss: 0.0522 - accuracy: 0.9852\n",
      "Epoch 16/22\n",
      "95/95 [==============================] - 1s 9ms/step - loss: 0.0482 - accuracy: 0.9859\n",
      "Epoch 17/22\n",
      "95/95 [==============================] - 1s 10ms/step - loss: 0.0394 - accuracy: 0.9861\n",
      "Epoch 18/22\n",
      "95/95 [==============================] - 1s 8ms/step - loss: 0.0554 - accuracy: 0.9847\n",
      "Epoch 19/22\n",
      "95/95 [==============================] - 1s 7ms/step - loss: 0.0438 - accuracy: 0.9871\n",
      "Epoch 20/22\n",
      "95/95 [==============================] - 1s 7ms/step - loss: 0.0329 - accuracy: 0.9895\n",
      "Epoch 21/22\n",
      "95/95 [==============================] - 1s 7ms/step - loss: 0.0271 - accuracy: 0.9919\n",
      "Epoch 22/22\n",
      "95/95 [==============================] - 1s 7ms/step - loss: 0.0232 - accuracy: 0.9914\n"
     ]
    }
   ],
   "source": [
    "distrosPredictorHistory = distroPredictor.fit(features, distrosOneHot, batch_size=44, epochs=22)"
   ]
  },
  {
   "cell_type": "code",
   "execution_count": 9,
   "metadata": {},
   "outputs": [
    {
     "name": "stdout",
     "output_type": "stream",
     "text": [
      "2/2 [==============================] - 0s 6ms/step - loss: 0.0369 - accuracy: 0.9773\n"
     ]
    }
   ],
   "source": [
    "distroPredictorEvaluation = distroPredictor.evaluate(testFeatures, testDistrosOneHot)"
   ]
  },
  {
   "cell_type": "code",
   "execution_count": 10,
   "metadata": {},
   "outputs": [],
   "source": [
    "distroPredictor.save(\"../model/LinuxDistro4UPredictor.h5\")"
   ]
  }
 ],
 "metadata": {
  "kernelspec": {
   "display_name": "Python 3.10.4 ('venv')",
   "language": "python",
   "name": "python3"
  },
  "language_info": {
   "codemirror_mode": {
    "name": "ipython",
    "version": 3
   },
   "file_extension": ".py",
   "mimetype": "text/x-python",
   "name": "python",
   "nbconvert_exporter": "python",
   "pygments_lexer": "ipython3",
   "version": "3.10.4"
  },
  "orig_nbformat": 4,
  "vscode": {
   "interpreter": {
    "hash": "d41dbd7363d61e12246a8070a608cdd102e6f178569b520627617875fc0b9065"
   }
  }
 },
 "nbformat": 4,
 "nbformat_minor": 2
}
