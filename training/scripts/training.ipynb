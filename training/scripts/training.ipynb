{
 "cells": [
  {
   "cell_type": "code",
   "execution_count": 1,
   "metadata": {},
   "outputs": [
    {
     "name": "stderr",
     "output_type": "stream",
     "text": [
      "2022-08-24 20:20:48.870452: W tensorflow/stream_executor/platform/default/dso_loader.cc:64] Could not load dynamic library 'libcudart.so.11.0'; dlerror: libcudart.so.11.0: cannot open shared object file: No such file or directory\n",
      "2022-08-24 20:20:48.870512: I tensorflow/stream_executor/cuda/cudart_stub.cc:29] Ignore above cudart dlerror if you do not have a GPU set up on your machine.\n"
     ]
    }
   ],
   "source": [
    "import pandas as pd\n",
    "import tensorflow as tf"
   ]
  },
  {
   "cell_type": "code",
   "execution_count": 2,
   "metadata": {},
   "outputs": [],
   "source": [
    "trainingData = pd.read_csv('../data/LinuxDistro4U.csv')\n",
    "testingData = pd.read_csv('../data/LinuxDistro4UTestData.csv')\n",
    "numberOfFeatures = 52"
   ]
  },
  {
   "cell_type": "code",
   "execution_count": 3,
   "metadata": {},
   "outputs": [],
   "source": [
    "features = trainingData.iloc[:, :numberOfFeatures]\n",
    "distros = trainingData.iloc[:, numberOfFeatures:]\n",
    "distrosOneHot = pd.get_dummies(distros)\n",
    "testFeatures = testingData.iloc[:, :numberOfFeatures]\n",
    "testDistros = testingData.iloc[:, numberOfFeatures:]\n",
    "testDistrosOneHot = pd.get_dummies(testDistros)"
   ]
  },
  {
   "cell_type": "code",
   "execution_count": 4,
   "metadata": {},
   "outputs": [
    {
     "name": "stderr",
     "output_type": "stream",
     "text": [
      "2022-08-24 20:21:02.564626: W tensorflow/stream_executor/platform/default/dso_loader.cc:64] Could not load dynamic library 'libcuda.so.1'; dlerror: libcuda.so.1: cannot open shared object file: No such file or directory\n",
      "2022-08-24 20:21:02.564711: W tensorflow/stream_executor/cuda/cuda_driver.cc:269] failed call to cuInit: UNKNOWN ERROR (303)\n",
      "2022-08-24 20:21:02.613819: I tensorflow/stream_executor/cuda/cuda_diagnostics.cc:156] kernel driver does not appear to be running on this host (DESKTOP-8871DJ7): /proc/driver/nvidia/version does not exist\n",
      "2022-08-24 20:21:02.640215: I tensorflow/core/platform/cpu_feature_guard.cc:193] This TensorFlow binary is optimized with oneAPI Deep Neural Network Library (oneDNN) to use the following CPU instructions in performance-critical operations:  AVX2 FMA\n",
      "To enable them in other operations, rebuild TensorFlow with the appropriate compiler flags.\n"
     ]
    }
   ],
   "source": [
    "distroPredictor = tf.keras.models.Sequential()\n",
    "distroPredictor.add(tf.keras.layers.Dense(2016, activation=\"relu\", input_shape=(numberOfFeatures,)))\n",
    "distroPredictor.add(tf.keras.layers.Dense(1008, activation=\"relu\"))\n",
    "distroPredictor.add(tf.keras.layers.Dense(504, activation=\"relu\"))\n",
    "distroPredictor.add(tf.keras.layers.Dense(252, activation=\"relu\"))\n",
    "distroPredictor.add(tf.keras.layers.Dense(126, activation=\"relu\"))\n",
    "distroPredictor.add(tf.keras.layers.Dense(44, activation=\"softmax\"))"
   ]
  },
  {
   "cell_type": "code",
   "execution_count": 5,
   "metadata": {},
   "outputs": [
    {
     "name": "stdout",
     "output_type": "stream",
     "text": [
      "Model: \"sequential\"\n",
      "_________________________________________________________________\n",
      " Layer (type)                Output Shape              Param #   \n",
      "=================================================================\n",
      " dense (Dense)               (None, 2016)              106848    \n",
      "                                                                 \n",
      " dense_1 (Dense)             (None, 1008)              2033136   \n",
      "                                                                 \n",
      " dense_2 (Dense)             (None, 504)               508536    \n",
      "                                                                 \n",
      " dense_3 (Dense)             (None, 252)               127260    \n",
      "                                                                 \n",
      " dense_4 (Dense)             (None, 126)               31878     \n",
      "                                                                 \n",
      " dense_5 (Dense)             (None, 44)                5588      \n",
      "                                                                 \n",
      "=================================================================\n",
      "Total params: 2,813,246\n",
      "Trainable params: 2,813,246\n",
      "Non-trainable params: 0\n",
      "_________________________________________________________________\n"
     ]
    }
   ],
   "source": [
    "distroPredictor.compile(loss=\"categorical_crossentropy\", optimizer=\"adam\", metrics=[\"accuracy\"])\n",
    "distroPredictor.summary()"
   ]
  },
  {
   "cell_type": "code",
   "execution_count": 6,
   "metadata": {},
   "outputs": [
    {
     "name": "stdout",
     "output_type": "stream",
     "text": [
      "Epoch 1/8\n",
      "95/95 [==============================] - 6s 39ms/step - loss: 1.1437 - accuracy: 0.8007\n",
      "Epoch 2/8\n",
      "95/95 [==============================] - 4s 40ms/step - loss: 0.1302 - accuracy: 0.9617\n",
      "Epoch 3/8\n",
      "95/95 [==============================] - 4s 39ms/step - loss: 0.0760 - accuracy: 0.9804\n",
      "Epoch 4/8\n",
      "95/95 [==============================] - 4s 44ms/step - loss: 0.0804 - accuracy: 0.9782\n",
      "Epoch 5/8\n",
      "95/95 [==============================] - 4s 40ms/step - loss: 0.0633 - accuracy: 0.9833\n",
      "Epoch 6/8\n",
      "95/95 [==============================] - 4s 39ms/step - loss: 0.0649 - accuracy: 0.9837\n",
      "Epoch 7/8\n",
      "95/95 [==============================] - 4s 43ms/step - loss: 0.0781 - accuracy: 0.9809\n",
      "Epoch 8/8\n",
      "95/95 [==============================] - 4s 44ms/step - loss: 0.0716 - accuracy: 0.9782\n"
     ]
    }
   ],
   "source": [
    "distrosPredictorHistory = distroPredictor.fit(features, distrosOneHot, batch_size=44, epochs=8)"
   ]
  },
  {
   "cell_type": "code",
   "execution_count": 7,
   "metadata": {},
   "outputs": [
    {
     "name": "stdout",
     "output_type": "stream",
     "text": [
      "2/2 [==============================] - 0s 7ms/step - loss: 5.4657e-05 - accuracy: 1.0000\n"
     ]
    }
   ],
   "source": [
    "distroPredictorEvaluation = distroPredictor.evaluate(testFeatures, testDistrosOneHot)"
   ]
  },
  {
   "cell_type": "code",
   "execution_count": 8,
   "metadata": {},
   "outputs": [],
   "source": [
    "distroPredictor.save(\"../model/model.h5\")"
   ]
  }
 ],
 "metadata": {
  "kernelspec": {
   "display_name": "Python 3.10.4 ('venv')",
   "language": "python",
   "name": "python3"
  },
  "language_info": {
   "codemirror_mode": {
    "name": "ipython",
    "version": 3
   },
   "file_extension": ".py",
   "mimetype": "text/x-python",
   "name": "python",
   "nbconvert_exporter": "python",
   "pygments_lexer": "ipython3",
   "version": "3.10.4"
  },
  "orig_nbformat": 4,
  "vscode": {
   "interpreter": {
    "hash": "d41dbd7363d61e12246a8070a608cdd102e6f178569b520627617875fc0b9065"
   }
  }
 },
 "nbformat": 4,
 "nbformat_minor": 2
}
